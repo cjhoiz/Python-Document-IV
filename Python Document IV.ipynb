{
 "cells": [
  {
   "cell_type": "markdown",
   "metadata": {},
   "source": [
    "# Object-Oriented-Programming (OOP)"
   ]
  },
  {
   "cell_type": "markdown",
   "metadata": {},
   "source": [
    "## Tasks Today:\n",
    "\n",
    "   \n",
    "\n",
    "1) <b>Creating a Class (Initializing/Declaring)</b> <br>\n",
    "2) <b>Using a Class (Instantiating)</b> <br>\n",
    " &nbsp;&nbsp;&nbsp;&nbsp; a) Creating One Instance <br>\n",
    " &nbsp;&nbsp;&nbsp;&nbsp; b) Creating Multiple Instances <br>\n",
    " &nbsp;&nbsp;&nbsp;&nbsp; c) In-Class Exercise #1 - Create a Class 'Car' and instantiate three different makes of cars <br>\n",
    "3) <b>The \\__init\\__() Method</b> <br>\n",
    " &nbsp;&nbsp;&nbsp;&nbsp; a) The 'self' Attribute <br>\n",
    "4) <b>Class Attributes</b> <br>\n",
    " &nbsp;&nbsp;&nbsp;&nbsp; a) Initializing Attributes <br>\n",
    " &nbsp;&nbsp;&nbsp;&nbsp; b) Setting an Attribute Outside of the \\__init\\__() Method <br>\n",
    " &nbsp;&nbsp;&nbsp;&nbsp; c) Setting Defaults for Attributes <br>\n",
    " &nbsp;&nbsp;&nbsp;&nbsp; d) Accessing Class Attributes <br>\n",
    " &nbsp;&nbsp;&nbsp;&nbsp; e) Changing Class Attributes <br>\n",
    " &nbsp;&nbsp;&nbsp;&nbsp; f) In-Class Exercise #2 - Add a color and wheels attribute to your 'Car' class <br>\n",
    "5) <b>Class Methods</b> <br>\n",
    " &nbsp;&nbsp;&nbsp;&nbsp; a) Creating <br>\n",
    " &nbsp;&nbsp;&nbsp;&nbsp; b) Calling <br>\n",
    " &nbsp;&nbsp;&nbsp;&nbsp; c) Modifying an Attribute's Value Through a Method <br>\n",
    " &nbsp;&nbsp;&nbsp;&nbsp; d) Incrementing an Attribute's Value Through a Method <br>\n",
    " &nbsp;&nbsp;&nbsp;&nbsp; e) In-Class Exercise #3 - Add a method that prints the cars color and wheel number, then call them <br>\n",
    "6) <b>Inheritance</b> <br>\n",
    " &nbsp;&nbsp;&nbsp;&nbsp; a) Syntax for Inheriting from a Parent Class <br>\n",
    " &nbsp;&nbsp;&nbsp;&nbsp; b) The \\__init\\__() Method for a Child Class (super()) <br>\n",
    " &nbsp;&nbsp;&nbsp;&nbsp; c) Defining Attributes and Methods for the Child Class <br>\n",
    " &nbsp;&nbsp;&nbsp;&nbsp; d) Method Overriding <br>\n",
    " &nbsp;&nbsp;&nbsp;&nbsp; e) In-Class Exercise #4 - Create a class 'Ford' that inherits from 'Car' class and initialize it as a Blue Ford Explorer with 4 wheels using the super() method <br>\n",
    "7) <b>Classes as Attributes</b> <br>\n",
    "8) <b>Exercises</b> <br>\n",
    " &nbsp;&nbsp;&nbsp;&nbsp; a) Exercise #1 - Turn the shopping cart program from yesterday into an object-oriented program <br>"
   ]
  },
  {
   "cell_type": "markdown",
   "metadata": {},
   "source": [
    "## Creating a Class (Initializing/Declaring)\n",
    "<p>When creating a class, function, or even a variable you are initializing that object. Initializing and Declaring occur at the same time in Python, whereas in lower level languages you have to declare an object before initializing it. This is the first step in the process of using a class.</p>"
   ]
  },
  {
   "cell_type": "code",
   "execution_count": 13,
   "metadata": {},
   "outputs": [
    {
     "ename": "TypeError",
     "evalue": "Car.headlights() takes 0 positional arguments but 1 was given",
     "output_type": "error",
     "traceback": [
      "\u001b[1;31m---------------------------------------------------------------------------\u001b[0m",
      "\u001b[1;31mTypeError\u001b[0m                                 Traceback (most recent call last)",
      "Cell \u001b[1;32mIn[13], line 10\u001b[0m\n\u001b[0;32m      7\u001b[0m         \u001b[38;5;28mprint\u001b[39m(\u001b[38;5;124m'\u001b[39m\u001b[38;5;124mTurn them on for safety, do not crash into a moose!\u001b[39m\u001b[38;5;124m'\u001b[39m)\n\u001b[0;32m      9\u001b[0m vw \u001b[38;5;241m=\u001b[39m Car()\n\u001b[1;32m---> 10\u001b[0m \u001b[43mvw\u001b[49m\u001b[38;5;241;43m.\u001b[39;49m\u001b[43mheadlights\u001b[49m\u001b[43m(\u001b[49m\u001b[43m)\u001b[49m\n",
      "\u001b[1;31mTypeError\u001b[0m: Car.headlights() takes 0 positional arguments but 1 was given"
     ]
    }
   ],
   "source": [
    "class Car():\n",
    "    wheels = 4\n",
    "    color = 'blue'\n",
    "    windsheild_wipers = 'wee woo wee woo'\n",
    "    \n",
    "    def headlights():\n",
    "        print('Turn them on for safety, do not crash into a moose!')\n",
    "        \n",
    "vw = Car()\n",
    "vw.headlights()"
   ]
  },
  {
   "cell_type": "markdown",
   "metadata": {},
   "source": [
    "## Using a Class (Instantiating)\n",
    "<p>The process of creating a class is called <i>Instantiating</i>. Each time you create a variable of that type of class, it is referred to as an <i>Instance</i> of that class. This is the second step in the process of using a class.</p>"
   ]
  },
  {
   "cell_type": "markdown",
   "metadata": {},
   "source": [
    "##### Creating One Instance"
   ]
  },
  {
   "cell_type": "code",
   "execution_count": 6,
   "metadata": {},
   "outputs": [
    {
     "name": "stdout",
     "output_type": "stream",
     "text": [
      "wee woo wee woo\n"
     ]
    }
   ],
   "source": [
    "ford = Car()\n",
    "\n",
    "print(ford.windsheild_wipers)"
   ]
  },
  {
   "cell_type": "markdown",
   "metadata": {},
   "source": [
    "##### Creating Multiple Instances"
   ]
  },
  {
   "cell_type": "code",
   "execution_count": 8,
   "metadata": {},
   "outputs": [
    {
     "name": "stdout",
     "output_type": "stream",
     "text": [
      "<class 'str'>\n"
     ]
    },
    {
     "ename": "AttributeError",
     "evalue": "'Car' object has no attribute 'bumper'",
     "output_type": "error",
     "traceback": [
      "\u001b[1;31m---------------------------------------------------------------------------\u001b[0m",
      "\u001b[1;31mAttributeError\u001b[0m                            Traceback (most recent call last)",
      "Cell \u001b[1;32mIn[8], line 6\u001b[0m\n\u001b[0;32m      3\u001b[0m porsche \u001b[38;5;241m=\u001b[39m Car()\n\u001b[0;32m      5\u001b[0m \u001b[38;5;28mprint\u001b[39m(\u001b[38;5;28mtype\u001b[39m(porsche\u001b[38;5;241m.\u001b[39mcolor))\n\u001b[1;32m----> 6\u001b[0m \u001b[38;5;28mprint\u001b[39m(\u001b[43mporsche\u001b[49m\u001b[38;5;241;43m.\u001b[39;49m\u001b[43mbumper\u001b[49m)\n",
      "\u001b[1;31mAttributeError\u001b[0m: 'Car' object has no attribute 'bumper'"
     ]
    }
   ],
   "source": [
    "chevrolet = Car()\n",
    "honda = Car()\n",
    "porsche = Car()\n",
    "\n",
    "print(type(porsche.color))\n",
    "print(porsche.bumper)"
   ]
  },
  {
   "cell_type": "markdown",
   "metadata": {},
   "source": [
    "##### In-Class Exercise #1 - Create a Class 'Car' and Instantiate three different makes of cars"
   ]
  },
  {
   "cell_type": "code",
   "execution_count": 12,
   "metadata": {},
   "outputs": [
    {
     "name": "stdout",
     "output_type": "stream",
     "text": [
      "4\n",
      "Dust Metal Grey and 4 20\" Black Tires\n",
      "Lane Departure Warning, Heated Seats, Heated Steering Wheel, Power Seats, Sunroof\n"
     ]
    }
   ],
   "source": [
    "class Car():\n",
    "    doors = 4\n",
    "    color = 'Dust Metal Grey'\n",
    "    wheels = '4 20\" Black Tires'\n",
    "    special_features = 'Lane Departure Warning, Heated Seats, Heated Steering Wheel, Power Seats, Sunroof'\n",
    "    \n",
    "chevrolet = Car()\n",
    "honda = Car()\n",
    "ferrari = Car()\n",
    "\n",
    "print(chevrolet.doors)\n",
    "print(honda.color, 'and', honda.wheels)\n",
    "print(ferrari.special_features)\n",
    "    "
   ]
  },
  {
   "cell_type": "markdown",
   "metadata": {},
   "source": [
    "## The \\__init\\__() Method <br>\n",
    "<p>This method is used in almost every created class, and called only once upon the creation of the class instance. This method will initialize all variables needed for the object.</p>"
   ]
  },
  {
   "cell_type": "code",
   "execution_count": 2,
   "metadata": {},
   "outputs": [
    {
     "name": "stdout",
     "output_type": "stream",
     "text": [
      "blue\n",
      "black\n",
      "4\n",
      "6\n"
     ]
    }
   ],
   "source": [
    "class Car():\n",
    "    engine = '4.7L' # Global within the class - any method inside the class can call upon this variable\n",
    "    \n",
    "    def __init__(self, color, wheels):\n",
    "        self.color = color\n",
    "        self.wheels = wheels\n",
    "    \n",
    "mazda = Car('black', 4)\n",
    "subaru = Car('blue', 6)\n",
    "\n",
    "print(subaru.color)\n",
    "print(mazda.color)\n",
    "print(mazda.wheels)\n",
    "print(subaru.wheels)"
   ]
  },
  {
   "cell_type": "markdown",
   "metadata": {},
   "source": [
    "##### The 'self' Attribute <br>\n",
    "<p>This attribute is required to keep track of specific instance's attributes. Without the self attribute, the program would not know how to reference or keep track of an instance's attributes.</p>"
   ]
  },
  {
   "cell_type": "code",
   "execution_count": 15,
   "metadata": {},
   "outputs": [
    {
     "data": {
      "text/plain": [
       "'Rock on climber!'"
      ]
     },
     "execution_count": 15,
     "metadata": {},
     "output_type": "execute_result"
    }
   ],
   "source": [
    "# see above\n",
    "\n",
    "class House():\n",
    "    \n",
    "    def __init__(self, wall, dishes):\n",
    "        self.wall = wall\n",
    "        self.dishes = dishes\n",
    "    \n",
    "    def washDishes(self):\n",
    "        if self.dishes.lower() == 'dirty':\n",
    "            return 'Clean'\n",
    "    \n",
    "    def rockClimbingWall(self):\n",
    "        if self.wall.lower() == 'yes':\n",
    "            return 'Rock on climber!'\n",
    "        else:\n",
    "            return 'Why no climbing wall?'\n",
    "\n",
    "brandon_house = House('yes', 'dirty')\n",
    "\n",
    "brandon_house.washDishes()\n",
    "brandon_house.rockClimbingWall()\n"
   ]
  },
  {
   "cell_type": "markdown",
   "metadata": {},
   "source": [
    "## Class Attributes <br>\n",
    "<p>While variables are inside of a class, they are referred to as attributes and not variables. When someone says 'attribute' you know they're speaking about a class. Attributes can be initialized through the init method, or outside of it.</p>"
   ]
  },
  {
   "cell_type": "markdown",
   "metadata": {},
   "source": [
    "##### Initializing Attributes"
   ]
  },
  {
   "cell_type": "code",
   "execution_count": 3,
   "metadata": {},
   "outputs": [],
   "source": [
    "# see above\n",
    "\n",
    "class Toy():\n",
    "    kind = 'car'  # This is called a constant\n",
    "    \n",
    "    def __init__(self, rooftop, horn, wheels):\n",
    "        self.rooftop = rooftop\n",
    "        self.horn = horn\n",
    "        self.wheels = wheels\n",
    "        \n",
    "tonka_truck = Toy(1, 1, 4) # 1 Rooftop, 1 horn, 4 wheels\n",
    "hotwheels_car = Toy(2, 3, 8) # 2 rooftops, 3 horns, 8 wheels"
   ]
  },
  {
   "cell_type": "markdown",
   "metadata": {},
   "source": [
    "##### Accessing Class Attributes"
   ]
  },
  {
   "cell_type": "code",
   "execution_count": 4,
   "metadata": {
    "scrolled": true
   },
   "outputs": [
    {
     "data": {
      "text/plain": [
       "8"
      ]
     },
     "execution_count": 4,
     "metadata": {},
     "output_type": "execute_result"
    }
   ],
   "source": [
    "# See Above\n",
    "\n",
    "tonka_truck.rooftop\n",
    "hotwheels_car.wheels"
   ]
  },
  {
   "cell_type": "markdown",
   "metadata": {},
   "source": [
    "##### Setting Defaults for Attributes"
   ]
  },
  {
   "cell_type": "code",
   "execution_count": 17,
   "metadata": {},
   "outputs": [
    {
     "data": {
      "text/plain": [
       "'Blue'"
      ]
     },
     "execution_count": 17,
     "metadata": {},
     "output_type": "execute_result"
    }
   ],
   "source": [
    "class Car():\n",
    "    engine = '4.7L'\n",
    "    \n",
    "    def __init__(self, wheels):\n",
    "        self.wheels = wheels\n",
    "        self.color = 'Blue'\n",
    "        \n",
    "honda = Car(4)\n",
    "honda.color"
   ]
  },
  {
   "cell_type": "markdown",
   "metadata": {},
   "source": [
    "##### Changing Class Attributes <br>\n",
    "<p>Keep in mind there are global class attributes and then there are attributes only available to each class instance which won't effect other classes.</p>"
   ]
  },
  {
   "cell_type": "code",
   "execution_count": 6,
   "metadata": {},
   "outputs": [
    {
     "name": "stdout",
     "output_type": "stream",
     "text": [
      "Before change: Blue\n",
      "\n",
      "After Change: White\n",
      "Blue\n"
     ]
    }
   ],
   "source": [
    "jeep = Car(8)\n",
    "\n",
    "print(f'Before change: {jeep.color}')\n",
    "\n",
    "jeep.color = 'White'\n",
    "\n",
    "print(f'\\nAfter Change: {jeep.color}')\n",
    "print(honda.color)"
   ]
  },
  {
   "cell_type": "code",
   "execution_count": null,
   "metadata": {},
   "outputs": [],
   "source": []
  },
  {
   "cell_type": "markdown",
   "metadata": {},
   "source": [
    "##### In-Class Exercise #2 - Add a doors and seats attribute to your 'Car' class then print out two different instances with different doors and seats"
   ]
  },
  {
   "cell_type": "code",
   "execution_count": 19,
   "metadata": {},
   "outputs": [
    {
     "name": "stdout",
     "output_type": "stream",
     "text": [
      "Chevy color: Pink and Chevy doors: 4\n",
      "Ferrari doors: 2 and Ferrari seats: 2\n"
     ]
    }
   ],
   "source": [
    "class Car():\n",
    "    engine = '4.7L'\n",
    "    \n",
    "    def __init__(self, wheels, color, doors, seats):\n",
    "        self.wheels = wheels\n",
    "        self.color = color\n",
    "        self.doors = doors\n",
    "        self.seats = seats\n",
    "        \n",
    "chevy = Car(4, 'Pink', 4, 2)\n",
    "ferrari = Car(4, 'Red', 2, 2)\n",
    "\n",
    "print(f'Chevy color: {chevy.color} and Chevy doors: {chevy.doors}')\n",
    "print(f'Ferrari doors: {ferrari.doors} and Ferrari seats: {ferrari.seats}')\n",
    "\n",
    "\n",
    "        "
   ]
  },
  {
   "cell_type": "markdown",
   "metadata": {},
   "source": [
    "## Class Methods <br>\n",
    "<p>While inside of a class, functions are referred to as 'methods'. If you hear someone mention methods, they're speaking about classes. Methods are essentially functions, but only callable on the instances of a class.</p>"
   ]
  },
  {
   "cell_type": "markdown",
   "metadata": {},
   "source": [
    "##### Creating"
   ]
  },
  {
   "cell_type": "code",
   "execution_count": 60,
   "metadata": {},
   "outputs": [],
   "source": [
    "class ShoppingBag():\n",
    "    \"\"\"\n",
    "    \n",
    "    The Shopping Bag class will have handles, capacity, and item to place inside.\n",
    "    \n",
    "    Attributes for the class:\n",
    "    - handles: expected to be an integer\n",
    "    - capacity: expeted to be a string or integer\n",
    "    -items: expected to be a list\n",
    "    \"\"\"\n",
    "    \n",
    "    def __init__(self, handles, capacity, items):\n",
    "        self.handles = handles\n",
    "        self.capacity = capacity\n",
    "        self.items = items\n",
    "        \n",
    "    # Write a method that shows the items in our shopping bag (items list)\n",
    "    def showShoppingBag(self):\n",
    "        if len(self.items) == 0:\n",
    "            print('You have no items in your bag!')\n",
    "        else:\n",
    "            print('You have items in your bag!')\n",
    "            for item in self.items:\n",
    "                print(item)\n",
    "            \n",
    "    # Show the capacity and how much is left\n",
    "    def showCapacity(self):\n",
    "        print(f'Your capacity is: {self.capacity}')\n",
    "        \n",
    "    # Add items to the items list for the shopping bag\n",
    "    \n",
    "    def addToShoppingBag(self):\n",
    "        if len(self.items) > self.capacity:\n",
    "            print('Please add more capacity or change out items!')\n",
    "        else:\n",
    "            products = input('What would you like to add? ')\n",
    "            self.items.append(products)\n",
    "        \n",
    "    # Change capacity of the shopping bag\n",
    "    def changeBagCapacity(self, capacity):\n",
    "        self.capacity = capacity\n",
    "    \n",
    "    # Increase the capacity of the shopping bag by default amount set to 10\n",
    "    def increaseCapacity(self, changed_capacity = 10):\n",
    "        if self.capacity == isinstance(self.capacity, str):\n",
    "            print(\"We can't add that here!\")\n",
    "            \n",
    "        else:\n",
    "            self.capacity += changed_capacity\n",
    "        "
   ]
  },
  {
   "cell_type": "markdown",
   "metadata": {},
   "source": [
    "##### Calling"
   ]
  },
  {
   "cell_type": "code",
   "execution_count": 61,
   "metadata": {},
   "outputs": [
    {
     "name": "stdout",
     "output_type": "stream",
     "text": [
      "What do you want to do? add/show/quit add\n",
      "What would you like to add? l\n",
      "What do you want to do? add/show/quit add\n",
      "What would you like to add? a\n",
      "What do you want to do? add/show/quit add\n",
      "What would you like to add? b\n",
      "What do you want to do? add/show/quit add\n",
      "What would you like to add? c\n",
      "What do you want to do? add/show/quit add\n",
      "What would you like to add? d\n",
      "What do you want to do? add/show/quit add\n",
      "What would you like to add? e\n",
      "What do you want to do? add/show/quit add\n",
      "What would you like to add? f\n",
      "What do you want to do? add/show/quit add\n",
      "What would you like to add? g\n",
      "What do you want to do? add/show/quit add\n",
      "What would you like to add? h\n",
      "What do you want to do? add/show/quit add\n",
      "What would you like to add? i\n",
      "What do you want to do? add/show/quit add\n",
      "What would you like to add? j\n",
      "What do you want to do? add/show/quit add\n",
      "Please add more capacity or change out items!\n",
      "What do you want to do? add/show/quit show\n",
      "You have items in your bag!\n",
      "l\n",
      "a\n",
      "b\n",
      "c\n",
      "d\n",
      "e\n",
      "f\n",
      "g\n",
      "h\n",
      "i\n",
      "j\n",
      "What do you want to do? add/show/quit quit\n",
      "You have items in your bag!\n",
      "l\n",
      "a\n",
      "b\n",
      "c\n",
      "d\n",
      "e\n",
      "f\n",
      "g\n",
      "h\n",
      "i\n",
      "j\n",
      "Thanks for shopping!\n"
     ]
    }
   ],
   "source": [
    "# See Above\n",
    "# Idea of a shapping bag has been created, now instantiating and making it\n",
    "\n",
    "wholeFoods_bag = ShoppingBag(2, 10, [])\n",
    "\n",
    "# Create a function to run the shopping bag methods on our wholeFoods_bag instance\n",
    "def run():\n",
    "    while True:\n",
    "        response = input(\"What do you want to do? add/show/quit \")\n",
    "        \n",
    "        if response.lower() == 'quit':\n",
    "            if len(wholeFoods_bag.items) == 0:\n",
    "                user_input = input('You have no items in your bag, are you sure you want to quit (Y/N)? ')\n",
    "                if user_input.lower() == 'y':\n",
    "                    break\n",
    "                else:\n",
    "                    response = input(\"What do you want to do? add/show/quit \")\n",
    "            else:\n",
    "                wholeFoods_bag.showShoppingBag()\n",
    "                print('Thanks for shopping!')\n",
    "                break\n",
    "        \n",
    "        elif response.lower() == 'add':\n",
    "            wholeFoods_bag.addToShoppingBag()\n",
    "            \n",
    "        elif response.lower() == 'show':\n",
    "            wholeFoods_bag.showShoppingBag()\n",
    "        \n",
    "        else:\n",
    "            print('Try another command!')\n",
    "            \n",
    "run()"
   ]
  },
  {
   "cell_type": "markdown",
   "metadata": {},
   "source": [
    "##### Modifying an Attribute's Value Through a Method"
   ]
  },
  {
   "cell_type": "code",
   "execution_count": 62,
   "metadata": {},
   "outputs": [
    {
     "name": "stdout",
     "output_type": "stream",
     "text": [
      "Your capacity is: 10\n",
      "Capacity AFTER the change...\n",
      "Your capacity is: 40\n"
     ]
    }
   ],
   "source": [
    "# Show the capacity\n",
    "wholeFoods_bag.showCapacity()\n",
    "print('Capacity AFTER the change...')\n",
    "wholeFoods_bag.changeBagCapacity(40)\n",
    "wholeFoods_bag.showCapacity()\n",
    "\n"
   ]
  },
  {
   "cell_type": "markdown",
   "metadata": {},
   "source": [
    "##### Incrementing an Attribute's Value Through a Method"
   ]
  },
  {
   "cell_type": "code",
   "execution_count": 63,
   "metadata": {},
   "outputs": [
    {
     "name": "stdout",
     "output_type": "stream",
     "text": [
      "Your capacity is: 40\n",
      "After increase: \n",
      "Your capacity is: 50\n"
     ]
    }
   ],
   "source": [
    "wholeFoods_bag.showCapacity()\n",
    "print('After increase: ')\n",
    "wholeFoods_bag.increaseCapacity()\n",
    "wholeFoods_bag.showCapacity()\n",
    "\n"
   ]
  },
  {
   "cell_type": "markdown",
   "metadata": {},
   "source": [
    "##### In-Class Exercise #3 - Add a method that takes in three parameters of year, doors and seats and prints out a formatted print statement with make, model, year, seats, and doors"
   ]
  },
  {
   "cell_type": "code",
   "execution_count": 16,
   "metadata": {},
   "outputs": [
    {
     "data": {
      "text/plain": [
       "'This car is from 2019 and is a Ford Explorer and has 4 doors and 5 seats'"
      ]
     },
     "execution_count": 16,
     "metadata": {},
     "output_type": "execute_result"
    }
   ],
   "source": [
    "# Create class with 2 parameters inside of the __init__ which are make and model\n",
    "\n",
    "# Inside of the Car class create a method that has 4 parameter in total (self,year,door,seats)\n",
    "\n",
    "# Output: This car is from 2019 and is a Ford Expolorer and has 4 doors and 5 seats\n",
    "\n",
    "class Car():\n",
    "    def __init__(self, make, model):\n",
    "        self.make = make\n",
    "        self.model = model\n",
    "    \n",
    "    def carDetails(self, year, door, seats):\n",
    "        self.year = year\n",
    "        self.door = door\n",
    "        self.seats = seats\n",
    "        return f'This car is from {self.year} and is a {self.make} {self.model} and has {self.door} doors and {self.seats} seats'\n",
    "    \n",
    "new_car = Car('Ford', 'Explorer')\n",
    "\n",
    "new_car.carDetails('2019', 4, 5)\n",
    "    \n",
    "\n"
   ]
  },
  {
   "cell_type": "markdown",
   "metadata": {},
   "source": [
    "## Inheritance <br>\n",
    "<p>You can create a child-parent relationship between two classes by using inheritance. What this allows you to do is have overriding methods, but also inherit traits from the parent class. Think of it as an actual parent and child, the child will inherit the parent's genes, as will the classes in OOP</p>"
   ]
  },
  {
   "cell_type": "markdown",
   "metadata": {},
   "source": [
    "##### Syntax for Inheriting from a Parent Class"
   ]
  },
  {
   "cell_type": "code",
   "execution_count": 6,
   "metadata": {},
   "outputs": [
    {
     "name": "stdout",
     "output_type": "stream",
     "text": [
      "Bark\n",
      "Make some generic sound\n",
      "None\n",
      "9.8\n",
      "15\n"
     ]
    }
   ],
   "source": [
    "# Create a parent class and call it Animal\n",
    "class Animal():\n",
    "    acceleration = 9.8\n",
    "    \n",
    "    def __init__(self, name, species, legs = 4):\n",
    "        self.name = name\n",
    "        self.species = species\n",
    "        self.legs = legs\n",
    "        \n",
    "    # Generic Parent Method\n",
    "    def makeSound(self):\n",
    "        print('Make some generic sound')\n",
    "\n",
    "# Now we are making our child class...Dog\n",
    "class Dog(Animal):\n",
    "    speed = 15\n",
    "    \n",
    "    def printInfo(self):\n",
    "        print(f'The Dog has {self.speed}mph in speed and {self.acceleration}')\n",
    "              \n",
    "# Creation of our Grandchild Class -- Mutt\n",
    "class Mutt(Dog):\n",
    "    color = \"Tan\"\n",
    "    \n",
    "    # Override the Animal Class using the Dog class to overwrite the init from Animal\n",
    "    def __init__(self, name, species, eye_color, legs = 4):\n",
    "        Dog.__init__(self, name, species, legs)\n",
    "        self.eye_color = eye_color\n",
    "        \n",
    "    # Override the makeSound method (which is coming from Animal)\n",
    "    def makeSound(self):\n",
    "        noise = \"Bark\"\n",
    "        return noise\n",
    "\n",
    "lassie = Dog('Lassie', 'Dog')\n",
    "\n",
    "basic_animal = Animal('Generic Animal Name', 'Generic Animal Species')\n",
    "buster = Mutt('Buster', 'Mut', 'Brown')\n",
    "\n",
    "print(buster.makeSound())\n",
    "print(lassie.makeSound())\n",
    "print(buster.acceleration)\n",
    "# print(basic_animal.speed)\n",
    "print(buster.speed)"
   ]
  },
  {
   "cell_type": "markdown",
   "metadata": {},
   "source": [
    "##### The \\__init\\__() Method for a Child Class - super()"
   ]
  },
  {
   "cell_type": "code",
   "execution_count": 8,
   "metadata": {
    "scrolled": true
   },
   "outputs": [
    {
     "name": "stdout",
     "output_type": "stream",
     "text": [
      "Bark\n",
      "Make some generic sound\n",
      "None\n",
      "9.8\n",
      "15\n"
     ]
    }
   ],
   "source": [
    "class Puppy(Dog):\n",
    "    color = 'black and brown'\n",
    "    \n",
    "    # Override the Animal class __init__(via Dog Class)\n",
    "    def __init__(self, name, species, eye_color, legs = 4):\n",
    "        super().__init__(name, speicies, legs)\n",
    "        self.eye_color = eye_color\n",
    "        \n",
    "    # Override the makeSound method\n",
    "    def makeSound(self):\n",
    "        noise = 'Bark'\n",
    "        return noise\n",
    "    \n",
    "print(buster.makeSound())\n",
    "print(lassie.makeSound())\n",
    "print(buster.acceleration)\n",
    "# print(basic_animal.speed)\n",
    "print(buster.speed)"
   ]
  },
  {
   "cell_type": "markdown",
   "metadata": {},
   "source": [
    "##### Defining Attributes and Methods for the Child Class"
   ]
  },
  {
   "cell_type": "code",
   "execution_count": null,
   "metadata": {},
   "outputs": [],
   "source": [
    "# See Above"
   ]
  },
  {
   "cell_type": "markdown",
   "metadata": {},
   "source": [
    "##### Method Overriding"
   ]
  },
  {
   "cell_type": "code",
   "execution_count": null,
   "metadata": {},
   "outputs": [],
   "source": [
    "# See Above"
   ]
  },
  {
   "cell_type": "markdown",
   "metadata": {},
   "source": [
    "## Classes as Attributes <br>\n",
    "<p>Classes can also be used as attributes within another class. This is useful in situations where you need to keep variables locally stored, instead of globally stored.</p>"
   ]
  },
  {
   "cell_type": "code",
   "execution_count": 9,
   "metadata": {},
   "outputs": [
    {
     "name": "stdout",
     "output_type": "stream",
     "text": [
      "20\n"
     ]
    },
    {
     "data": {
      "text/plain": [
       "'2019 Tesla Model X 20'"
      ]
     },
     "execution_count": 9,
     "metadata": {},
     "output_type": "execute_result"
    }
   ],
   "source": [
    "class Battery():\n",
    "    volts = 7.8\n",
    "    \n",
    "    def __init__(self, cells):\n",
    "        self.cells = cells\n",
    "        \n",
    "class Car():\n",
    "    def __init__(self, year, make , model, battery):\n",
    "        self.year = year\n",
    "        self.make = make\n",
    "        self. model = model\n",
    "        self.battery = battery\n",
    "\n",
    "    def printInfo(self):\n",
    "        return f'{self.year} {self.make} {self.model} {self.battery.cells}'\n",
    "    \n",
    "my_battery = Battery(20)\n",
    "\n",
    "tesla = Car(2019, 'Tesla', 'Model X', my_battery)\n",
    "\n",
    "print(tesla.battery.cells)\n",
    "tesla.printInfo()"
   ]
  },
  {
   "cell_type": "markdown",
   "metadata": {},
   "source": [
    "# Exercises"
   ]
  },
  {
   "cell_type": "markdown",
   "metadata": {},
   "source": [
    "### Exercise 1 - Turn the shopping cart program from yesterday into an object-oriented program\n",
    "\n",
    "The comments in the cell below are there as a guide for thinking about the problem. However, if you feel a different way is best for you and your own thought process, please do what feels best for you by all means."
   ]
  },
  {
   "cell_type": "code",
   "execution_count": 4,
   "metadata": {},
   "outputs": [
    {
     "name": "stdout",
     "output_type": "stream",
     "text": [
      "Please input an item to add to your cart: apple\n",
      "Please enter the amount you'd like to purchase: 2\n",
      "Please input an item to add to your cart: banana\n",
      "Please enter the amount you'd like to purchase: 4\n",
      "Enter an item to remove: banana\n",
      "You currently have 4 Banana in your bag.\n",
      "Please enter the amount of Banana you'd like to remove: 2\n",
      "Enter an item to remove: apple\n",
      "You currently have 2 Apple in your bag.\n",
      "Please enter the amount of Apple you'd like to remove: 2\n",
      "Banana - 2\n"
     ]
    }
   ],
   "source": [
    "# Create a class called cart that retains items and has methods to add, remove, and show\n",
    "\n",
    "class Cart():\n",
    "    \n",
    "    def __init__(self, shopping_cart = {}):\n",
    "        self.shopping_cart = shopping_cart\n",
    "    \n",
    "    def addItem(self):\n",
    "        self.item = input(\"Please input an item to add to your cart: \").title()\n",
    "        \n",
    "        if self.item in self.shopping_cart:\n",
    "            print(\"Item already in shopping cart\")\n",
    "            item_qnty = int(input(f\"Please enter the new amount of {self.item.title()} you'd like to purchase: \"))\n",
    "            self.shopping_cart[self.item] = self.shopping_cart[self.item] + item_qnty\n",
    "        \n",
    "        else:\n",
    "            item_qnty = int(input(\"Please enter the amount you'd like to purchase: \"))\n",
    "            self.shopping_cart[self.item] = item_qnty\n",
    "    \n",
    "    def removeItem(self):\n",
    "        self.item = input(\"Enter an item to remove: \").title()\n",
    "        if self.item in self.shopping_cart:\n",
    "            print(f'You currently have {self.shopping_cart[self.item.title()]} {self.item.title()} in your bag.')\n",
    "            item_qnty = int(input(f\"Please enter the amount of {self.item.title()} you'd like to remove: \"))\n",
    "            self.shopping_cart[self.item] = self.shopping_cart[self.item] - item_qnty\n",
    "            if self.shopping_cart[self.item] == 0:\n",
    "                del(self.shopping_cart[self.item])\n",
    "        \n",
    "        elif self.item not in self.shopping_cart:\n",
    "            print(\"Item not in your shopping cart!\")\n",
    "    \n",
    "    def showCart(self):\n",
    "        for self.item in self.shopping_cart:\n",
    "            print(self.item.title(), '-', self.shopping_cart[self.item])\n",
    "    \n",
    "    pass\n",
    "\n",
    "\n",
    "my_cart = Cart()\n",
    "my_cart.addItem()\n",
    "my_cart.addItem()\n",
    "my_cart.removeItem()\n",
    "my_cart.removeItem()\n",
    "my_cart.showCart()"
   ]
  },
  {
   "cell_type": "markdown",
   "metadata": {},
   "source": [
    "### Exercise 2 - Write a Python class which has two methods get_String and print_String. get_String accept a string from the user and print_String print the string in upper case"
   ]
  },
  {
   "cell_type": "code",
   "execution_count": 33,
   "metadata": {},
   "outputs": [
    {
     "name": "stdout",
     "output_type": "stream",
     "text": [
      "Please input a sentence or phrase: This is bananas\n",
      "THIS IS BANANAS\n"
     ]
    }
   ],
   "source": [
    "class funStrings():\n",
    "    def __init__(self):\n",
    "        self.user_input = ''\n",
    "        \n",
    "    def get_String(self):\n",
    "        self.user_input = input('Please input a sentence or phrase: ')\n",
    "        \n",
    "    def print_String(self):\n",
    "        print(self.user_input.upper())\n",
    "\n",
    "user_input = funStrings()\n",
    "user_input.get_String()\n",
    "user_input.print_String()\n",
    "        \n",
    "        \n",
    "        "
   ]
  },
  {
   "cell_type": "code",
   "execution_count": null,
   "metadata": {},
   "outputs": [],
   "source": [
    "# Your parking garage class should have the following methods:\n",
    "# - takeTicket\n",
    "# - This should decrease the amount of tickets available by 1\n",
    "# - This should decrease the amount of parkingSpaces available by 1\n",
    "# - payForParking\n",
    "# - Display an input that waits for an amount from the user and store it in a variable\n",
    "# - If the payment variable is not empty then (meaning the ticket has been paid) -> display a message to the user that their ticket has been paid and they have 15mins to leave\n",
    "# - This should update the \"currentTicket\" dictionary key \"paid\" to True\n",
    "# -leaveGarage\n",
    "# - If the ticket has been paid, display a message of \"Thank You, have a nice day\"\n",
    "# - If the ticket has not been paid, display an input prompt for payment\n",
    "# - Once paid, display message \"Thank you, have a nice day!\"\n",
    "# - Update parkingSpaces list to increase by 1 (meaning add to the parkingSpaces list)\n",
    "# - Update tickets list to increase by 1 (meaning add to the tickets list)\n",
    "\n",
    "# You will need a few attributes as well:\n",
    "# - tickets -> list\n",
    "# - parkingSpaces -> list\n",
    "# - currentTicket -> dictionary\n",
    "\n",
    "class MyGarage():\n",
    "    def __init__(self):\n",
    "        self.tickets = [1, 2, 3, 4, 5, 6, 7, 8, 9, 10, 11, 12]\n",
    "        self.parkingSpaces = ['A1', 'A2', 'A3', 'B1', 'B2', 'B3', 'C1', 'C2', 'C3', 'D1', 'D2', 'D3']\n",
    "        self.currentTicket = {\n",
    "            'paid': False,\n",
    "            'ticket number': '',\n",
    "            'parking space': ''\n",
    "        }\n",
    "\n",
    "# Give the user a ticket and adjust the spots/tickets by -1.  If no additional spaces are available will inform the user and end the program.\n",
    "\n",
    "    def takeTicket(self):\n",
    "        if self.tickets and len(self.parkingSpaces) > 0:\n",
    "            print('Please wait while your ticket prints...')\n",
    "            print('Garage fee is $1.00 per hour.')\n",
    "            self.currentTicket['ticket number'] = self.tickets.pop(0)\n",
    "            self.currentTicket['parking space'] = self.parkingSpaces.pop(0)\n",
    "            print(f\"You have ticket number {self.currentTicket['ticket number']}\")\n",
    "            print(f\"Thank you. Please take your ticket and proceed to your parking spot {self.currentTicket['parking space']}.\\n\")\n",
    "            \n",
    "\n",
    "        elif self.tickets or len(self.parkingSpaces) == 0:\n",
    "            print('There are no additional parking spaces at this time.')\n",
    "            print('Please return at a later time.  Sorry for the inconvenience.')\n",
    "\n",
    "\n",
    "# Will ask the user for time spent in the garage and multiply it by the rate, then ask the user to pay.  If payment no equal to the fee, will ask for the correct amount.\n",
    "\n",
    "    def payForParking(self):\n",
    "\n",
    "        print('\\nPlease input your ticket.')\n",
    "        self.payment = input('\\nPlease tell me how long you have been parked (to the nearest hour, min of 1 hour): ')\n",
    "        pay_me = input(f'Your total is: ${self.payment} dollars.  Please input the total for payment: ')\n",
    "        \n",
    "        if self.payment == pay_me:\n",
    "            print('Thank you for your patronage, please leave the parking garage within 15 minutes.')\n",
    "            self.currentTicket['paid'] = True\n",
    "            return self.currentTicket['paid']\n",
    "        else:\n",
    "            print('You did not put in the correct amount. Please input the correct amount.')\n",
    "            input(f'Your total is: ${self.payment} dollars.  Please input the total for payment: ')\n",
    "            if self.payment == pay_me:\n",
    "                self.currentTicket['paid'] = True\n",
    "                return self.currentTicket['paid']\n",
    "\n",
    "# Checks if 'paid' is True and allows the driver to leave if it is.\n",
    "\n",
    "    def leaveGarage(self):\n",
    "        print('\\nPlease insert your ticket to confirm payment.')\n",
    "\n",
    "        if self.currentTicket['paid'] == True:\n",
    "            print('Thank you, please come back soon and have a nice day!')\n",
    "            self.tickets.append(self.currentTicket['ticket number'])\n",
    "            self.currentTicket['ticket number'] = ''\n",
    "            self.parkingSpaces.append(self.currentTicket['parking space'])\n",
    "            self.currentTicket['parking space'] = ''\n",
    "\n",
    "        elif self.currentTicket['paid'] == False:\n",
    "            self.payment = input('Please tell me how long you have been parked (to the nearest hour, min of 1 hour): ')\n",
    "            pay_me = input(f'Your total is: ${self.payment} dollars.  Please input the total for payment: ')\n",
    "            if self.payment == pay_me:\n",
    "                print('Thank you, please come back soon and have a nice day!')\n",
    "                self.currentTicket['paid'] = True\n",
    "                self.tickets.append(self.currentTicket['ticket number'])\n",
    "                self.currentTicket['ticket number'] = ''\n",
    "                self.parkingSpaces.append(self.currentTicket['parking space'])\n",
    "                self.currentTicket['parking space'] = ''\n",
    "                return self.currentTicket['paid']\n",
    "            \n",
    "            else:\n",
    "                print('You did not put in the correct amount. Please input the correct amount.')\n",
    "                pay_me = input(f'Your total is: ${self.payment} dollars.  Please input the total for payment: ')\n",
    "                if self.payment == pay_me:\n",
    "                    print('Thank you, please come back soon and have a nice day!')\n",
    "\n",
    "\n",
    "my_garage = MyGarage()\n",
    "\n",
    "\n",
    "\n",
    "\n"
   ]
  },
  {
   "cell_type": "code",
   "execution_count": 15,
   "metadata": {},
   "outputs": [
    {
     "name": "stdout",
     "output_type": "stream",
     "text": [
      "Please wait while your ticket prints\n",
      "Garage fee is $1.00 per hour.\n",
      "You have ticket number 2\n",
      "Thank you. Please take your ticket and proceed to your parking spot A2\n",
      "Please wait while your ticket prints\n",
      "Garage fee is $1.00 per hour.\n",
      "You have ticket number 3\n",
      "Thank you. Please take your ticket and proceed to your parking spot A3\n",
      "Please wait while your ticket prints\n",
      "Garage fee is $1.00 per hour.\n",
      "You have ticket number 4\n",
      "Thank you. Please take your ticket and proceed to your parking spot B1\n",
      "Please wait while your ticket prints\n",
      "Garage fee is $1.00 per hour.\n",
      "You have ticket number 5\n",
      "Thank you. Please take your ticket and proceed to your parking spot B2\n",
      "Please wait while your ticket prints\n",
      "Garage fee is $1.00 per hour.\n",
      "You have ticket number 6\n",
      "Thank you. Please take your ticket and proceed to your parking spot B3\n",
      "Please wait while your ticket prints\n",
      "Garage fee is $1.00 per hour.\n",
      "You have ticket number 7\n",
      "Thank you. Please take your ticket and proceed to your parking spot C1\n",
      "Please wait while your ticket prints\n",
      "Garage fee is $1.00 per hour.\n",
      "You have ticket number 8\n",
      "Thank you. Please take your ticket and proceed to your parking spot C2\n",
      "Please wait while your ticket prints\n",
      "Garage fee is $1.00 per hour.\n",
      "You have ticket number 9\n",
      "Thank you. Please take your ticket and proceed to your parking spot C3\n",
      "Please wait while your ticket prints\n",
      "Garage fee is $1.00 per hour.\n",
      "You have ticket number 10\n",
      "Thank you. Please take your ticket and proceed to your parking spot D1\n",
      "Please wait while your ticket prints\n",
      "Garage fee is $1.00 per hour.\n",
      "You have ticket number 11\n",
      "Thank you. Please take your ticket and proceed to your parking spot D2\n",
      "Please wait while your ticket prints\n",
      "Garage fee is $1.00 per hour.\n",
      "You have ticket number 12\n",
      "Thank you. Please take your ticket and proceed to your parking spot D3\n",
      "There are no additional parking spaces at this time.\n",
      "Please return at a later time.  Sorry for the inconvenience.\n",
      "There are no additional parking spaces at this time.\n",
      "Please return at a later time.  Sorry for the inconvenience.\n",
      "There are no additional parking spaces at this time.\n",
      "Please return at a later time.  Sorry for the inconvenience.\n"
     ]
    }
   ],
   "source": [
    "my_garage.takeTicket()\n",
    "my_garage.takeTicket()\n",
    "my_garage.takeTicket()\n",
    "my_garage.takeTicket()\n",
    "my_garage.takeTicket()\n",
    "my_garage.takeTicket()\n",
    "my_garage.takeTicket()\n",
    "my_garage.takeTicket()\n",
    "my_garage.takeTicket()\n",
    "my_garage.takeTicket()\n",
    "my_garage.takeTicket()\n",
    "my_garage.takeTicket()\n",
    "my_garage.takeTicket()\n",
    "my_garage.takeTicket()"
   ]
  },
  {
   "cell_type": "code",
   "execution_count": 20,
   "metadata": {},
   "outputs": [
    {
     "name": "stdout",
     "output_type": "stream",
     "text": [
      "Please input your ticket.\n",
      "\n",
      "Please tell me how long you have been parked (to the nearest hour, min of 1 hour): 4\n",
      "Your total is: $4.00.  Please input the total for payment: 4\n",
      "Thank you for your patronage, please leave the parking garage within 15 minutes.\n"
     ]
    }
   ],
   "source": [
    "my_garage.payForParking()"
   ]
  },
  {
   "cell_type": "code",
   "execution_count": 26,
   "metadata": {},
   "outputs": [
    {
     "name": "stdout",
     "output_type": "stream",
     "text": [
      "Please insert your ticket to confirm payment.\n",
      "Please tell me how long you have been parked (to the nearest hour, min of 1 hour): 2\n",
      "Your total is: $2 dollars.  Please input the total for payment: 2\n",
      "Thank you, please come back soon and have a nice day!\n"
     ]
    },
    {
     "data": {
      "text/plain": [
       "False"
      ]
     },
     "execution_count": 26,
     "metadata": {},
     "output_type": "execute_result"
    }
   ],
   "source": [
    "my_garage.leaveGarage()"
   ]
  },
  {
   "cell_type": "code",
   "execution_count": 25,
   "metadata": {},
   "outputs": [
    {
     "name": "stdout",
     "output_type": "stream",
     "text": [
      "Please wait while your ticket prints\n",
      "Garage fee is $1.00 per hour.\n",
      "You have ticket number 7\n",
      "Thank you. Please take your ticket and proceed to your parking spot C1\n",
      "Please input your ticket.\n",
      "\n",
      "Please tell me how long you have been parked (to the nearest hour, min of 1 hour): 2\n",
      "Your total is: $2 dollars.  Please input the total for payment: 1\n",
      "You did not put in the correct amount. Please input the correct amount.\n",
      "Your total is: $2 dollars.  Please input the total for payment: \n",
      "Please insert your ticket to confirm payment.\n",
      "Please tell me how long you have been parked (to the nearest hour, min of 1 hour): 2\n",
      "Your total is: $2 dollars.  Please input the total for payment: 2\n",
      "Thank you, please come back soon and have a nice day!\n"
     ]
    },
    {
     "data": {
      "text/plain": [
       "False"
      ]
     },
     "execution_count": 25,
     "metadata": {},
     "output_type": "execute_result"
    }
   ],
   "source": [
    "my_garage.takeTicket()\n",
    "my_garage.payForParking()\n",
    "my_garage.leaveGarage()"
   ]
  },
  {
   "cell_type": "code",
   "execution_count": null,
   "metadata": {},
   "outputs": [],
   "source": []
  }
 ],
 "metadata": {
  "kernelspec": {
   "display_name": "Python 3 (ipykernel)",
   "language": "python",
   "name": "python3"
  },
  "language_info": {
   "codemirror_mode": {
    "name": "ipython",
    "version": 3
   },
   "file_extension": ".py",
   "mimetype": "text/x-python",
   "name": "python",
   "nbconvert_exporter": "python",
   "pygments_lexer": "ipython3",
   "version": "3.10.9"
  }
 },
 "nbformat": 4,
 "nbformat_minor": 2
}
